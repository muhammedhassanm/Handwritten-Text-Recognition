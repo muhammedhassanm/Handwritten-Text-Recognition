{
 "cells": [
  {
   "cell_type": "markdown",
   "metadata": {},
   "source": [
    "# Transforming images into csv"
   ]
  },
  {
   "cell_type": "code",
   "execution_count": 5,
   "metadata": {},
   "outputs": [],
   "source": [
    "import numpy as np\n",
    "import matplotlib.pyplot as plt\n",
    "import glob\n",
    "import csv\n",
    "import cv2\n",
    "from ocr.normalization import letterNorm\n",
    "from ocr.datahelpers import correspondingShuffle\n",
    "# Helper functions - ploting and resizing\n",
    "from ocr.helpers import implt, resize"
   ]
  },
  {
   "cell_type": "code",
   "execution_count": 6,
   "metadata": {},
   "outputs": [],
   "source": [
    "def createDataCSV(dataloc, lang):\n",
    "    \"\"\" Create images and labels CSV file for given data \"\"\"\n",
    "    print(\"Creating \" + lang + \" dataset\")\n",
    "    # Get subfolders with images\n",
    "    dirlist = glob.glob(dataloc + lang + \"/*/\")\n",
    "    dirlist.sort()\n",
    "    # Name[17] should correspond to the letter (labels)\n",
    "    chars = [name[17] for name in dirlist]\n",
    "\n",
    "    images = np.zeros((1, 4096))\n",
    "    labels = []\n",
    "\n",
    "    # For every label load images and create corresponding labels\n",
    "    # cv2.imread(img, 0) - for loading images in grayscale\n",
    "    # Images are scaled to 64x64 = 4096 px\n",
    "    for i in range(len(chars)):\n",
    "        imglist = glob.glob(dirlist[i] + '*.jpg')\n",
    "        imgs = np.array([letterNorm(cv2.imread(img, 0)) for img in imglist])\n",
    "        images = np.concatenate([images, imgs.reshape(len(imgs), 4096)])\n",
    "        labels.extend([i] * len(imgs))\n",
    "\n",
    "    images = images[1:]\n",
    "    labels = np.array(labels)\n",
    "\n",
    "    assert len(labels) == len(images) # Check the same lenght of labels and images\n",
    "    print(\"Images: %d\" % len(labels))\n",
    "    print(\"For %d different labels\" % len(chars))\n",
    "\n",
    "    images, labels = correspondingShuffle([images, labels])    \n",
    "\n",
    "    # Create CSV files\n",
    "    with open(dataloc + lang + '-data.csv', 'w') as csvfile:\n",
    "        writer = csv.writer(csvfile, delimiter=',', quotechar='|', quoting=csv.QUOTE_MINIMAL)\n",
    "        for row in images:\n",
    "            writer.writerow(row)\n",
    "\n",
    "    with open(dataloc + lang + '-labels.csv', 'w') as csvfile:\n",
    "        writer = csv.writer(csvfile, delimiter=',', quotechar='|', quoting=csv.QUOTE_MINIMAL)\n",
    "        writer.writerow(labels)\n",
    "\n",
    "    # Print one of the images (last one)\n",
    "    implt(images[-1].reshape(64,64), 'gray', 'Example')\n",
    "    print(\"CSV data files saved.\\n\")"
   ]
  },
  {
   "cell_type": "code",
   "execution_count": 7,
   "metadata": {},
   "outputs": [
    {
     "name": "stdout",
     "output_type": "stream",
     "text": [
      "Creating cz dataset\n",
      "Images: 0\n",
      "For 0 different labels\n"
     ]
    },
    {
     "ename": "FileNotFoundError",
     "evalue": "[Errno 2] No such file or directory: 'data/charclas/cz-data.csv'",
     "output_type": "error",
     "traceback": [
      "\u001b[1;31m---------------------------------------------------------------------------\u001b[0m",
      "\u001b[1;31mFileNotFoundError\u001b[0m                         Traceback (most recent call last)",
      "\u001b[1;32m<ipython-input-7-938ab06589d7>\u001b[0m in \u001b[0;36m<module>\u001b[1;34m\u001b[0m\n\u001b[0;32m      4\u001b[0m \u001b[1;33m\u001b[0m\u001b[0m\n\u001b[0;32m      5\u001b[0m \u001b[1;31m# Run creating for both CZ and EN dataset\u001b[0m\u001b[1;33m\u001b[0m\u001b[1;33m\u001b[0m\u001b[1;33m\u001b[0m\u001b[0m\n\u001b[1;32m----> 6\u001b[1;33m \u001b[0mcreateDataCSV\u001b[0m\u001b[1;33m(\u001b[0m\u001b[0mDATA_LOC\u001b[0m\u001b[1;33m,\u001b[0m \u001b[0mLANG_CZ\u001b[0m\u001b[1;33m)\u001b[0m\u001b[1;33m\u001b[0m\u001b[1;33m\u001b[0m\u001b[0m\n\u001b[0m\u001b[0;32m      7\u001b[0m \u001b[0mcreateDataCSV\u001b[0m\u001b[1;33m(\u001b[0m\u001b[0mDATA_LOC\u001b[0m\u001b[1;33m,\u001b[0m \u001b[0mLANG_EN\u001b[0m\u001b[1;33m)\u001b[0m\u001b[1;33m\u001b[0m\u001b[1;33m\u001b[0m\u001b[0m\n",
      "\u001b[1;32m<ipython-input-6-53e55708d3e6>\u001b[0m in \u001b[0;36mcreateDataCSV\u001b[1;34m(dataloc, lang)\u001b[0m\n\u001b[0;32m     30\u001b[0m \u001b[1;33m\u001b[0m\u001b[0m\n\u001b[0;32m     31\u001b[0m     \u001b[1;31m# Create CSV files\u001b[0m\u001b[1;33m\u001b[0m\u001b[1;33m\u001b[0m\u001b[1;33m\u001b[0m\u001b[0m\n\u001b[1;32m---> 32\u001b[1;33m     \u001b[1;32mwith\u001b[0m \u001b[0mopen\u001b[0m\u001b[1;33m(\u001b[0m\u001b[0mdataloc\u001b[0m \u001b[1;33m+\u001b[0m \u001b[0mlang\u001b[0m \u001b[1;33m+\u001b[0m \u001b[1;34m'-data.csv'\u001b[0m\u001b[1;33m,\u001b[0m \u001b[1;34m'w'\u001b[0m\u001b[1;33m)\u001b[0m \u001b[1;32mas\u001b[0m \u001b[0mcsvfile\u001b[0m\u001b[1;33m:\u001b[0m\u001b[1;33m\u001b[0m\u001b[1;33m\u001b[0m\u001b[0m\n\u001b[0m\u001b[0;32m     33\u001b[0m         \u001b[0mwriter\u001b[0m \u001b[1;33m=\u001b[0m \u001b[0mcsv\u001b[0m\u001b[1;33m.\u001b[0m\u001b[0mwriter\u001b[0m\u001b[1;33m(\u001b[0m\u001b[0mcsvfile\u001b[0m\u001b[1;33m,\u001b[0m \u001b[0mdelimiter\u001b[0m\u001b[1;33m=\u001b[0m\u001b[1;34m','\u001b[0m\u001b[1;33m,\u001b[0m \u001b[0mquotechar\u001b[0m\u001b[1;33m=\u001b[0m\u001b[1;34m'|'\u001b[0m\u001b[1;33m,\u001b[0m \u001b[0mquoting\u001b[0m\u001b[1;33m=\u001b[0m\u001b[0mcsv\u001b[0m\u001b[1;33m.\u001b[0m\u001b[0mQUOTE_MINIMAL\u001b[0m\u001b[1;33m)\u001b[0m\u001b[1;33m\u001b[0m\u001b[1;33m\u001b[0m\u001b[0m\n\u001b[0;32m     34\u001b[0m         \u001b[1;32mfor\u001b[0m \u001b[0mrow\u001b[0m \u001b[1;32min\u001b[0m \u001b[0mimages\u001b[0m\u001b[1;33m:\u001b[0m\u001b[1;33m\u001b[0m\u001b[1;33m\u001b[0m\u001b[0m\n",
      "\u001b[1;31mFileNotFoundError\u001b[0m: [Errno 2] No such file or directory: 'data/charclas/cz-data.csv'"
     ]
    }
   ],
   "source": [
    "LANG_CZ = 'cz'\n",
    "LANG_EN = 'en'\n",
    "DATA_LOC = 'data/charclas/'\n",
    "\n",
    "# Run creating for both CZ and EN dataset\n",
    "createDataCSV(DATA_LOC, LANG_CZ)\n",
    "createDataCSV(DATA_LOC, LANG_EN)"
   ]
  },
  {
   "cell_type": "code",
   "execution_count": null,
   "metadata": {},
   "outputs": [],
   "source": []
  }
 ],
 "metadata": {
  "kernelspec": {
   "display_name": "Python 3",
   "language": "python",
   "name": "python3"
  },
  "language_info": {
   "codemirror_mode": {
    "name": "ipython",
    "version": 3
   },
   "file_extension": ".py",
   "mimetype": "text/x-python",
   "name": "python",
   "nbconvert_exporter": "python",
   "pygments_lexer": "ipython3",
   "version": "3.7.3"
  }
 },
 "nbformat": 4,
 "nbformat_minor": 1
}
